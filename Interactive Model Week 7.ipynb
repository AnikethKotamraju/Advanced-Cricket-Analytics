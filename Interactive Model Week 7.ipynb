{
 "cells": [
  {
   "cell_type": "markdown",
   "id": "04b5de25",
   "metadata": {},
   "source": [
    "# Problem Statement: Build an Interactive ML Model for IPL 2023 Final GT vs CSK"
   ]
  },
  {
   "cell_type": "code",
   "execution_count": 1,
   "id": "e3ae2082",
   "metadata": {},
   "outputs": [],
   "source": [
    "import pandas as pd\n",
    "import numpy as np\n",
    "import matplotlib.pyplot as plt\n",
    "\n",
    "import warnings\n",
    "warnings.filterwarnings('ignore')\n",
    "\n",
    "#to display all rows columns \n",
    "pd.set_option('display.max_rows', None)\n",
    "pd.set_option('display.max_columns', None)  \n",
    "pd.set_option('display.expand_frame_repr', False)\n",
    "pd.set_option('max_colwidth', -1)"
   ]
  },
  {
   "cell_type": "code",
   "execution_count": 6,
   "id": "60d9cea9",
   "metadata": {},
   "outputs": [],
   "source": [
    "ipl_df = pd.read_csv('IPL_ball_by_ball_updated.csv')"
   ]
  },
  {
   "cell_type": "code",
   "execution_count": 7,
   "id": "3e573815",
   "metadata": {},
   "outputs": [
    {
     "data": {
      "text/html": [
       "<div>\n",
       "<style scoped>\n",
       "    .dataframe tbody tr th:only-of-type {\n",
       "        vertical-align: middle;\n",
       "    }\n",
       "\n",
       "    .dataframe tbody tr th {\n",
       "        vertical-align: top;\n",
       "    }\n",
       "\n",
       "    .dataframe thead th {\n",
       "        text-align: right;\n",
       "    }\n",
       "</style>\n",
       "<table border=\"1\" class=\"dataframe\">\n",
       "  <thead>\n",
       "    <tr style=\"text-align: right;\">\n",
       "      <th></th>\n",
       "      <th>match_id</th>\n",
       "      <th>season</th>\n",
       "      <th>start_date</th>\n",
       "      <th>venue</th>\n",
       "      <th>innings</th>\n",
       "      <th>ball</th>\n",
       "      <th>batting_team</th>\n",
       "      <th>bowling_team</th>\n",
       "      <th>striker</th>\n",
       "      <th>non_striker</th>\n",
       "      <th>bowler</th>\n",
       "      <th>runs_off_bat</th>\n",
       "      <th>extras</th>\n",
       "      <th>wides</th>\n",
       "      <th>noballs</th>\n",
       "      <th>byes</th>\n",
       "      <th>legbyes</th>\n",
       "      <th>penalty</th>\n",
       "      <th>wicket_type</th>\n",
       "      <th>player_dismissed</th>\n",
       "      <th>other_wicket_type</th>\n",
       "      <th>other_player_dismissed</th>\n",
       "    </tr>\n",
       "  </thead>\n",
       "  <tbody>\n",
       "    <tr>\n",
       "      <th>243814</th>\n",
       "      <td>1370353</td>\n",
       "      <td>2023</td>\n",
       "      <td>2023-05-29</td>\n",
       "      <td>Narendra Modi Stadium, Ahmedabad</td>\n",
       "      <td>2</td>\n",
       "      <td>14.6</td>\n",
       "      <td>Chennai Super Kings</td>\n",
       "      <td>Gujarat Titans</td>\n",
       "      <td>RA Jadeja</td>\n",
       "      <td>S Dube</td>\n",
       "      <td>MM Sharma</td>\n",
       "      <td>4</td>\n",
       "      <td>0</td>\n",
       "      <td>NaN</td>\n",
       "      <td>NaN</td>\n",
       "      <td>NaN</td>\n",
       "      <td>NaN</td>\n",
       "      <td>NaN</td>\n",
       "      <td>NaN</td>\n",
       "      <td>NaN</td>\n",
       "      <td>NaN</td>\n",
       "      <td>NaN</td>\n",
       "    </tr>\n",
       "  </tbody>\n",
       "</table>\n",
       "</div>"
      ],
      "text/plain": [
       "        match_id  season  start_date                             venue  innings  ball         batting_team    bowling_team    striker non_striker     bowler  runs_off_bat  extras  wides  noballs  byes  legbyes  penalty wicket_type player_dismissed  other_wicket_type  other_player_dismissed\n",
       "243814  1370353   2023    2023-05-29  Narendra Modi Stadium, Ahmedabad  2        14.6  Chennai Super Kings  Gujarat Titans  RA Jadeja  S Dube      MM Sharma  4             0      NaN    NaN      NaN   NaN      NaN       NaN         NaN             NaN                NaN                    "
      ]
     },
     "execution_count": 7,
     "metadata": {},
     "output_type": "execute_result"
    }
   ],
   "source": [
    "ipl_df.tail(1)"
   ]
  },
  {
   "cell_type": "code",
   "execution_count": 10,
   "id": "7a1993bc",
   "metadata": {},
   "outputs": [],
   "source": [
    "ipl_df = ipl_df[(ipl_df.innings == 1) | (ipl_df.innings == 2)]"
   ]
  },
  {
   "cell_type": "code",
   "execution_count": 11,
   "id": "ac0f9261",
   "metadata": {},
   "outputs": [],
   "source": [
    "ipl_df['total_runs'] = ipl_df.apply(lambda x: x['runs_off_bat'] + x['extras'], axis = 1)"
   ]
  },
  {
   "cell_type": "code",
   "execution_count": 13,
   "id": "85e25a35",
   "metadata": {},
   "outputs": [],
   "source": [
    "ipl_df['isOut'] = ipl_df['player_dismissed'].apply(lambda x: 1 if type(x) == type('str') else 0)"
   ]
  },
  {
   "cell_type": "markdown",
   "id": "0da47cb4",
   "metadata": {},
   "source": [
    "# Choosing Teams"
   ]
  },
  {
   "cell_type": "code",
   "execution_count": 17,
   "id": "795b1e4b",
   "metadata": {},
   "outputs": [],
   "source": [
    "# t1 - bat first, t2 - bat second\n",
    "t1 = 'Gujarat Titans'\n",
    "t2 = 'Chennai Super Kings'"
   ]
  },
  {
   "cell_type": "markdown",
   "id": "2e9c9b14",
   "metadata": {},
   "source": [
    "# Choosing a match between the teams"
   ]
  },
  {
   "cell_type": "code",
   "execution_count": 18,
   "id": "5d3dbe03",
   "metadata": {},
   "outputs": [
    {
     "data": {
      "text/plain": [
       "array([1370353], dtype=int64)"
      ]
     },
     "execution_count": 18,
     "metadata": {},
     "output_type": "execute_result"
    }
   ],
   "source": [
    "ipl_df[(ipl_df.batting_team == t1) & (ipl_df.bowling_team == t2) & (ipl_df.innings == 1)].match_id.unique()"
   ]
  },
  {
   "cell_type": "code",
   "execution_count": 19,
   "id": "14449894",
   "metadata": {},
   "outputs": [],
   "source": [
    "required_match_id = 1370353"
   ]
  },
  {
   "cell_type": "code",
   "execution_count": 20,
   "id": "8fd0885a",
   "metadata": {},
   "outputs": [
    {
     "data": {
      "text/html": [
       "<div>\n",
       "<style scoped>\n",
       "    .dataframe tbody tr th:only-of-type {\n",
       "        vertical-align: middle;\n",
       "    }\n",
       "\n",
       "    .dataframe tbody tr th {\n",
       "        vertical-align: top;\n",
       "    }\n",
       "\n",
       "    .dataframe thead th {\n",
       "        text-align: right;\n",
       "    }\n",
       "</style>\n",
       "<table border=\"1\" class=\"dataframe\">\n",
       "  <thead>\n",
       "    <tr style=\"text-align: right;\">\n",
       "      <th></th>\n",
       "      <th>match_id</th>\n",
       "      <th>season</th>\n",
       "      <th>start_date</th>\n",
       "      <th>venue</th>\n",
       "      <th>innings</th>\n",
       "      <th>ball</th>\n",
       "      <th>batting_team</th>\n",
       "      <th>bowling_team</th>\n",
       "      <th>striker</th>\n",
       "      <th>non_striker</th>\n",
       "      <th>bowler</th>\n",
       "      <th>runs_off_bat</th>\n",
       "      <th>extras</th>\n",
       "      <th>wides</th>\n",
       "      <th>noballs</th>\n",
       "      <th>byes</th>\n",
       "      <th>legbyes</th>\n",
       "      <th>penalty</th>\n",
       "      <th>wicket_type</th>\n",
       "      <th>player_dismissed</th>\n",
       "      <th>other_wicket_type</th>\n",
       "      <th>other_player_dismissed</th>\n",
       "      <th>total_runs</th>\n",
       "      <th>isOut</th>\n",
       "    </tr>\n",
       "  </thead>\n",
       "  <tbody>\n",
       "    <tr>\n",
       "      <th>243599</th>\n",
       "      <td>1370353</td>\n",
       "      <td>2023</td>\n",
       "      <td>2023-05-29</td>\n",
       "      <td>Narendra Modi Stadium, Ahmedabad</td>\n",
       "      <td>1</td>\n",
       "      <td>0.1</td>\n",
       "      <td>Gujarat Titans</td>\n",
       "      <td>Chennai Super Kings</td>\n",
       "      <td>WP Saha</td>\n",
       "      <td>Shubman Gill</td>\n",
       "      <td>DL Chahar</td>\n",
       "      <td>0</td>\n",
       "      <td>0</td>\n",
       "      <td>NaN</td>\n",
       "      <td>NaN</td>\n",
       "      <td>NaN</td>\n",
       "      <td>NaN</td>\n",
       "      <td>NaN</td>\n",
       "      <td>NaN</td>\n",
       "      <td>NaN</td>\n",
       "      <td>NaN</td>\n",
       "      <td>NaN</td>\n",
       "      <td>0</td>\n",
       "      <td>0</td>\n",
       "    </tr>\n",
       "  </tbody>\n",
       "</table>\n",
       "</div>"
      ],
      "text/plain": [
       "        match_id  season  start_date                             venue  innings  ball    batting_team         bowling_team  striker   non_striker     bowler  runs_off_bat  extras  wides  noballs  byes  legbyes  penalty wicket_type player_dismissed  other_wicket_type  other_player_dismissed  total_runs  isOut\n",
       "243599  1370353   2023    2023-05-29  Narendra Modi Stadium, Ahmedabad  1        0.1   Gujarat Titans  Chennai Super Kings  WP Saha  Shubman Gill  DL Chahar  0             0      NaN    NaN      NaN   NaN      NaN       NaN         NaN             NaN                NaN                      0           0    "
      ]
     },
     "execution_count": 20,
     "metadata": {},
     "output_type": "execute_result"
    }
   ],
   "source": [
    "ipl_df[ipl_df.match_id == required_match_id].head(1)"
   ]
  },
  {
   "cell_type": "code",
   "execution_count": 21,
   "id": "db4200a3",
   "metadata": {},
   "outputs": [],
   "source": [
    "t1_outs = ipl_df[ipl_df.batting_team == t1].isOut.sum()\n",
    "t2_outs = ipl_df[ipl_df.batting_team == t2].isOut.sum()"
   ]
  },
  {
   "cell_type": "code",
   "execution_count": 22,
   "id": "ce8f0552",
   "metadata": {},
   "outputs": [],
   "source": [
    "t1_outcomes = ipl_df[ipl_df.batting_team == t1].total_runs.value_counts()\n",
    "t2_outcomes = ipl_df[ipl_df.batting_team == t2].total_runs.value_counts()"
   ]
  },
  {
   "cell_type": "code",
   "execution_count": 23,
   "id": "0ff12d14",
   "metadata": {},
   "outputs": [],
   "source": [
    "outcomes = [0, 1, 2, 3, 4, 6, 'w']"
   ]
  },
  {
   "cell_type": "code",
   "execution_count": 24,
   "id": "a3916b5e",
   "metadata": {},
   "outputs": [],
   "source": [
    "t1_outcomes_count = []\n",
    "for outcome in outcomes:\n",
    "    try:\n",
    "        if outcome != 'w':\n",
    "            t1_outcomes_count.append(t1_outcomes[outcome])\n",
    "        else:\n",
    "            t1_outcomes_count.append(t1_outs)\n",
    "    except:\n",
    "        t1_outcomes_count.append(0)\n",
    "        \n",
    "\n",
    "t2_outcomes_count = []\n",
    "for outcome in outcomes:\n",
    "    try:\n",
    "        if outcome != 'w':\n",
    "            t2_outcomes_count.append(t2_outcomes[outcome])\n",
    "        else:\n",
    "            t2_outcomes_count.append(t2_outs)\n",
    "    except:\n",
    "        t2_outcomes_count.append(0)"
   ]
  },
  {
   "cell_type": "code",
   "execution_count": 25,
   "id": "34bcd14c",
   "metadata": {},
   "outputs": [
    {
     "data": {
      "text/plain": [
       "[1208, 1796, 277, 9, 514, 202, 168]"
      ]
     },
     "execution_count": 25,
     "metadata": {},
     "output_type": "execute_result"
    }
   ],
   "source": [
    "t1_outcomes_count"
   ]
  },
  {
   "cell_type": "code",
   "execution_count": 26,
   "id": "52038aee",
   "metadata": {},
   "outputs": [
    {
     "data": {
      "text/plain": [
       "[9171, 11334, 1839, 106, 3029, 1392, 1166]"
      ]
     },
     "execution_count": 26,
     "metadata": {},
     "output_type": "execute_result"
    }
   ],
   "source": [
    "t2_outcomes_count"
   ]
  },
  {
   "cell_type": "code",
   "execution_count": 27,
   "id": "caf2032f",
   "metadata": {},
   "outputs": [],
   "source": [
    "t1_pb = [i/sum(t1_outcomes_count) for i in t1_outcomes_count]\n",
    "t2_pb = [i/sum(t2_outcomes_count) for i in t2_outcomes_count]"
   ]
  },
  {
   "cell_type": "code",
   "execution_count": 28,
   "id": "0fa1ca9a",
   "metadata": {},
   "outputs": [
    {
     "data": {
      "text/plain": [
       "([0.28941063727839006,\n",
       "  0.4302827024436991,\n",
       "  0.0663632007666507,\n",
       "  0.002156205079060853,\n",
       "  0.1231432678485865,\n",
       "  0.048394825107810256,\n",
       "  0.04024916147580259],\n",
       " [0.32710347041409565,\n",
       "  0.40425152477083853,\n",
       "  0.06559189642258444,\n",
       "  0.003780718336483932,\n",
       "  0.10803580982273424,\n",
       "  0.04964867853193994,\n",
       "  0.04158790170132325])"
      ]
     },
     "execution_count": 28,
     "metadata": {},
     "output_type": "execute_result"
    }
   ],
   "source": [
    "t1_pb, t2_pb"
   ]
  },
  {
   "cell_type": "markdown",
   "id": "353be6a4",
   "metadata": {},
   "source": [
    "# Probability Values:"
   ]
  },
  {
   "cell_type": "code",
   "execution_count": 29,
   "id": "f98862c0",
   "metadata": {},
   "outputs": [],
   "source": [
    "#GT = [0.28941, 0.43028, 0.06636, 0.0, 0.12314, 0.04839,0.04024]\n",
    "#CSK = [0.32710, 0.40425, 0.06559, 0.0, 0.10803, 0.04964, 0.04158]"
   ]
  },
  {
   "cell_type": "code",
   "execution_count": 31,
   "id": "f7512246",
   "metadata": {},
   "outputs": [],
   "source": [
    "def get_pbvalues(teamName):\n",
    "  \n",
    "    if teamName == 'GT':\n",
    "        p_0 = 0.28941\n",
    "        p_1 = 0.28941 + 0.43028\n",
    "        p_2 = 0.28941 + 0.43028 + 0.06636\n",
    "        p_3 = 0.28941 + 0.43028 + 0.06636 + 0.0\n",
    "        p_4 = 0.28941 + 0.43028 + 0.06636 + 0.0 + 0.12314\n",
    "        p_6 = 0.28941 + 0.43028 + 0.06636 + 0.0 + 0.12314 + 0.04839\n",
    "        p_w = 1\n",
    "    \n",
    "    elif teamName == 'CSK':\n",
    "        p_0 = 0.32710\n",
    "        p_1 = 0.32710 + 0.40425\n",
    "        p_2 = 0.32710 + 0.40425 + 0.06559\n",
    "        p_3 = 0.32710 + 0.40425 + 0.06559 + 0.0\n",
    "        p_4 = 0.32710 + 0.40425 + 0.06559 + 0.0 + 0.10803\n",
    "        p_6 = 0.32710 + 0.40425 + 0.06559 + 0.0 + 0.10803 + 0.04964\n",
    "        p_w = 1\n",
    "\n",
    "    return p_0, p_1, p_2, p_3, p_4, p_6, p_w"
   ]
  },
  {
   "cell_type": "markdown",
   "id": "265e9018",
   "metadata": {},
   "source": [
    "## Runs Prediction Model:"
   ]
  },
  {
   "cell_type": "code",
   "execution_count": 32,
   "id": "82db4ca8",
   "metadata": {},
   "outputs": [],
   "source": [
    "def predict_runs(target, current_score, current_wickets, current_overs):\n",
    "  \n",
    "    # pb values of both teams\n",
    "    i1p_0, i1p_1, i1p_2, i1p_3, i1p_4, i1p_6, i1p_w = get_pbvalues('GT')\n",
    "    i2p_0, i2p_1, i2p_2, i2p_3, i2p_4, i2p_6, i2p_w = get_pbvalues('CSK')\n",
    "\n",
    "    pred_runs = current_score\n",
    "    pred_wks = current_wickets\n",
    "    leftover_balls = 120 - current_overs*6\n",
    "\n",
    "    for i in range(leftover_balls):\n",
    "        r_value = np.random.random()\n",
    "\n",
    "        if r_value <= i2p_0:\n",
    "            pred_runs += 0\n",
    "        elif r_value <= i2p_1:\n",
    "            pred_runs += 1\n",
    "        elif r_value <= i2p_2:\n",
    "            pred_runs += 2\n",
    "        elif r_value <= i2p_3:\n",
    "            pred_runs += 3\n",
    "        elif r_value <= i2p_4:\n",
    "            pred_runs += 4\n",
    "        elif r_value <= i2p_6:\n",
    "            pred_runs += 6\n",
    "        else:\n",
    "            pred_runs += 0\n",
    "            pred_wks += 1\n",
    "            if pred_wks == 10:\n",
    "                break\n",
    "        if pred_runs > target:\n",
    "            break\n",
    "        # print('pred_runs: ', pred_runs)\n",
    "        # print('pred_wks: ', pred_wks)\n",
    "    \n",
    "    return pred_runs"
   ]
  },
  {
   "cell_type": "code",
   "execution_count": 44,
   "id": "22b16b20",
   "metadata": {},
   "outputs": [
    {
     "data": {
      "text/plain": [
       "172"
      ]
     },
     "execution_count": 44,
     "metadata": {},
     "output_type": "execute_result"
    }
   ],
   "source": [
    "# predict_runs(target, current_score, current_wickets, current_overs)\n",
    "predict_runs(171, 0, 0, 0)"
   ]
  },
  {
   "cell_type": "markdown",
   "id": "64e91c26",
   "metadata": {},
   "source": [
    "## Winner Function:"
   ]
  },
  {
   "cell_type": "code",
   "execution_count": 45,
   "id": "705c5888",
   "metadata": {},
   "outputs": [],
   "source": [
    "def get_win(pred_runs, target):\n",
    "    if pred_runs > target:\n",
    "        return 'win'\n",
    "    elif pred_runs == target:\n",
    "        return 'tie'\n",
    "    else:\n",
    "        return 'lose'"
   ]
  },
  {
   "cell_type": "code",
   "execution_count": 72,
   "id": "6cb1ccdd",
   "metadata": {},
   "outputs": [],
   "source": [
    "# runs, wickets, overs, \n",
    "# win - 1st ing score\n",
    "\n",
    "# GT - 214/4 \n",
    "#reduced to 17 overs 171 to chase from 15 overs (DLS method)\n",
    "\n",
    "target = 171\n",
    "\n",
    "current_score = 133\n",
    "current_wickets = 3\n",
    "current_overs = 12\n",
    "\n",
    "iter_count = 100\n",
    "\n",
    "runs_ls = []\n",
    "results_ls = []\n",
    "\n",
    "win_count = 0\n",
    "tie_count = 0\n",
    "lose_count = 0\n",
    "\n",
    "for i in range(iter_count):\n",
    "    pred_runs = predict_runs(target, current_score, current_wickets, current_overs)\n",
    "    runs_ls.append(pred_runs)\n",
    "    result_pred = get_win(pred_runs, target)\n",
    "    results_ls.append(result_pred)\n",
    "\n",
    "    if result_pred == 'win':\n",
    "        win_count += 1\n",
    "    elif result_pred == 'tie':\n",
    "        tie_count += 1\n",
    "    else:\n",
    "        lose_count +=1"
   ]
  },
  {
   "cell_type": "code",
   "execution_count": 75,
   "id": "412b4ce9",
   "metadata": {},
   "outputs": [
    {
     "data": {
      "text/plain": [
       "(97, 1, 2)"
      ]
     },
     "execution_count": 75,
     "metadata": {},
     "output_type": "execute_result"
    }
   ],
   "source": [
    "win_count, tie_count, lose_count"
   ]
  },
  {
   "cell_type": "markdown",
   "id": "8086d566",
   "metadata": {},
   "source": [
    "## Find out Runs at a required stage:"
   ]
  },
  {
   "cell_type": "code",
   "execution_count": 76,
   "id": "0f71b0ba",
   "metadata": {},
   "outputs": [],
   "source": [
    "# find out runs:\n",
    "def find_runs(current_score, target, current_wickets, at_overs):\n",
    "    runs_ls = []\n",
    "    results_ls = []\n",
    "    req_runs = []\n",
    "    win_ls = []\n",
    "\n",
    "    for i in range(current_score, target + 1):\n",
    "        win_count = 0\n",
    "        tie_count = 0\n",
    "        lose_count = 0\n",
    "\n",
    "        for j in range(100):\n",
    "            pred_runs = predict_runs(target, i, current_wickets, at_overs)\n",
    "            runs_ls.append(pred_runs)\n",
    "            result_pred = get_win(pred_runs, target)\n",
    "            results_ls.append(result_pred)\n",
    "\n",
    "            if result_pred == 'win':\n",
    "                win_count += 1\n",
    "            elif result_pred == 'tie':\n",
    "                tie_count += 1\n",
    "            else:\n",
    "                lose_count +=1\n",
    "\n",
    "            win_ls.append(win_count)\n",
    "            req_runs.append(i)\n",
    "            # print('runs: ', i, ' win%: ', win_count)\n",
    "\n",
    "    required_runs = current_score\n",
    "    for i in range(len(req_runs)):\n",
    "        if win_ls[i] >= 50:\n",
    "            required_runs = req_runs[i]\n",
    "            # print('Runs to be: ', req_runs[i])\n",
    "            break\n",
    "\n",
    "    return required_runs"
   ]
  },
  {
   "cell_type": "markdown",
   "id": "2bccf6a2",
   "metadata": {},
   "source": [
    "## Here CSK scored 133/3 in 12 overs at this stage they exactly required 133 so they maintained the req runrate at that time "
   ]
  },
  {
   "cell_type": "code",
   "execution_count": 79,
   "id": "fb78ddaf",
   "metadata": {},
   "outputs": [
    {
     "data": {
      "text/plain": [
       "133"
      ]
     },
     "execution_count": 79,
     "metadata": {},
     "output_type": "execute_result"
    }
   ],
   "source": [
    "# find_runs(current_score, target, current_wickets, at_overs)\n",
    "find_runs(133, 171, 3, 12)"
   ]
  },
  {
   "cell_type": "markdown",
   "id": "b5cd1af6",
   "metadata": {},
   "source": [
    "## Find out Wickets they can afford to lose:"
   ]
  },
  {
   "cell_type": "code",
   "execution_count": 98,
   "id": "951296fb",
   "metadata": {},
   "outputs": [],
   "source": [
    "def find_wickets(current_score, target, current_wickets, at_overs):\n",
    "\n",
    "#     find_runs(current_score, target, current_wickets, at_overs)\n",
    "    req_runs = find_runs(current_score, target, current_wickets, at_overs)\n",
    "\n",
    "    runs_ls = []\n",
    "    results_ls = []\n",
    "\n",
    "    req_wks = []\n",
    "    win_ls = []\n",
    "\n",
    "    for i in range(current_wickets, 10):\n",
    "        win_count = 0\n",
    "        tie_count = 0\n",
    "        lose_count = 0\n",
    "\n",
    "        for j in range(100):\n",
    "#             pred_runs = predict_runs(target, req_runs, i, at_overs)\n",
    "            pred_runs = predict_runs(target, current_score, i, at_overs)\n",
    "            runs_ls.append(pred_runs)\n",
    "            result_pred = get_win(pred_runs, target)\n",
    "            results_ls.append(result_pred)\n",
    "\n",
    "            if result_pred == 'win':\n",
    "                win_count += 1\n",
    "            elif result_pred == 'tie':\n",
    "                tie_count += 1\n",
    "            else:\n",
    "                lose_count +=1\n",
    "\n",
    "        win_ls.append(win_count)\n",
    "        req_wks.append(i)\n",
    "     #print('wickets: ', i, ' win%: ', win_count)\n",
    "\n",
    "    req_wicket_value = current_wickets\n",
    "    \n",
    "    for i in range(len(req_wks)):\n",
    "        if (win_ls[i] < 45)  :\n",
    "            req_wicket_value = req_wks[i]\n",
    "            break\n",
    "\n",
    "    return req_wicket_value"
   ]
  },
  {
   "cell_type": "code",
   "execution_count": 99,
   "id": "b1fa99fb",
   "metadata": {},
   "outputs": [
    {
     "data": {
      "text/plain": [
       "9"
      ]
     },
     "execution_count": 99,
     "metadata": {},
     "output_type": "execute_result"
    }
   ],
   "source": [
    "# wickets they can afford to lose:\n",
    "\n",
    "# find_wickets(current_score, target, current_wickets, at_overs)\n",
    "find_wickets(133, 171, 3, 12)"
   ]
  },
  {
   "cell_type": "markdown",
   "id": "cf479ae9",
   "metadata": {},
   "source": [
    "## Function: Interactive chart"
   ]
  },
  {
   "cell_type": "code",
   "execution_count": 108,
   "id": "ba50b17a",
   "metadata": {},
   "outputs": [],
   "source": [
    "%matplotlib inline\n",
    "from ipywidgets import interactive\n",
    "import ipywidgets as widgets\n",
    "import matplotlib.pyplot as plt\n",
    "import numpy as np\n",
    "\n",
    "def find_runs_wickets(current_wks, at_overs, target_score):\n",
    "    plt.figure(figsize = (16, 6))\n",
    "    # x = np.linspace(-10, 10, num=1000)\n",
    "    x = np.array(list(range(21)))\n",
    "    req_value = find_runs(133, target_score, current_wks, at_overs)\n",
    "    req_wk_value = find_wickets(133, target_score, current_wks, at_overs)\n",
    "\n",
    "    if at_overs == 12:\n",
    "        req_value = 133\n",
    "        req_wk_value = 3\n",
    "\n",
    "    \n",
    "    # print(req_value)\n",
    "    y = np.array([req_value for i in range(21)])\n",
    "\n",
    "    # plt.plot(x, current_overs * x + target_score)\n",
    "    # plt.plot(x, y)\n",
    "    plt.scatter(at_overs, req_value, s = 1200, color = 'red')\n",
    "    plt.axhline(target_score, ls = '--', color = 'blue')\n",
    "    plt.text( 1, target_score + 10, 'Target Score :' + str(target_score) , color = 'darkblue', fontsize = 13)\n",
    "    plt.text( at_overs, req_value, str(req_value) + '/' + str(req_wk_value), color = 'white', fontsize = 12,  horizontalalignment='center', verticalalignment='center')\n",
    "    plt.text(at_overs, req_value - 30, 'CSK has to be at ' + str(req_value) + '/' +  str(req_wk_value) + ' after ' + str(at_overs) + ' ov', horizontalalignment='center')\n",
    "    plt.ylim(50, target_score + 50)\n",
    "    plt.xticks(x)\n",
    "    plt.title('Where should CSK be?', fontsize = 20)\n",
    "    plt.xlabel('Overs')\n",
    "    plt.ylabel('Score')\n",
    "    plt.show()\n",
    "\n",
    "# x=widgets.IntSlider(min=-10, max=30, step=1, value=10)\n",
    "\n",
    "# find_wickets(current_score, target, current_wickets, at_overs)\n",
    "# find_wickets(133, 171, 3, 12)"
   ]
  },
  {
   "cell_type": "markdown",
   "id": "999025e8",
   "metadata": {},
   "source": [
    "# Interactive Visualization:"
   ]
  },
  {
   "cell_type": "code",
   "execution_count": 109,
   "id": "1624c6c2",
   "metadata": {},
   "outputs": [
    {
     "name": "stdout",
     "output_type": "stream",
     "text": [
      "current_score = CSK: 133/3 (12 overs)\n",
      "\n"
     ]
    },
    {
     "data": {
      "application/vnd.jupyter.widget-view+json": {
       "model_id": "4e971386616d4bf796dc8ae95effeb44",
       "version_major": 2,
       "version_minor": 0
      },
      "text/plain": [
       "interactive(children=(IntSlider(value=1, description='current_wks', max=10, min=1), IntSlider(value=10, descri…"
      ]
     },
     "execution_count": 109,
     "metadata": {},
     "output_type": "execute_result"
    }
   ],
   "source": [
    "print('current_score = CSK: 133/3 (12 overs)')\n",
    "print('')\n",
    "\n",
    "interactive_plot = interactive(find_runs_wickets, current_wks = widgets.IntSlider(min=1, max=10, step=1, value=1),  at_overs=widgets.IntSlider(min=10, max=15, step=1, value=10), target_score = widgets.IntSlider(min=0, max=250, step=1, value=171))\n",
    "output = interactive_plot.children[-1]\n",
    "output.layout.height = '450px'\n",
    "interactive_plot"
   ]
  },
  {
   "cell_type": "markdown",
   "id": "8c236ac7",
   "metadata": {},
   "source": [
    "# This is the Interactive ML Model for IPL Final 2023 - GT vs CSK"
   ]
  }
 ],
 "metadata": {
  "kernelspec": {
   "display_name": "Python 3 (ipykernel)",
   "language": "python",
   "name": "python3"
  },
  "language_info": {
   "codemirror_mode": {
    "name": "ipython",
    "version": 3
   },
   "file_extension": ".py",
   "mimetype": "text/x-python",
   "name": "python",
   "nbconvert_exporter": "python",
   "pygments_lexer": "ipython3",
   "version": "3.11.4"
  }
 },
 "nbformat": 4,
 "nbformat_minor": 5
}
