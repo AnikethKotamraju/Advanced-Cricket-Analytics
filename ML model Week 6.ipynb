{
 "cells": [
  {
   "cell_type": "code",
   "execution_count": 1,
   "id": "be1aebfe",
   "metadata": {},
   "outputs": [],
   "source": [
    "import pandas as pd\n",
    "import numpy as np"
   ]
  },
  {
   "cell_type": "code",
   "execution_count": 4,
   "id": "b088296e",
   "metadata": {},
   "outputs": [
    {
     "name": "stderr",
     "output_type": "stream",
     "text": [
      "C:\\Users\\DELL\\AppData\\Local\\Temp\\ipykernel_10704\\3019827052.py:1: DtypeWarning: Columns (1) have mixed types. Specify dtype option on import or set low_memory=False.\n",
      "  df = pd.read_csv('t20_ball_by_ball.csv')\n"
     ]
    }
   ],
   "source": [
    "df = pd.read_csv('t20_ball_by_ball.csv')"
   ]
  },
  {
   "cell_type": "code",
   "execution_count": 5,
   "id": "b9cf2f09",
   "metadata": {},
   "outputs": [
    {
     "data": {
      "text/html": [
       "<div>\n",
       "<style scoped>\n",
       "    .dataframe tbody tr th:only-of-type {\n",
       "        vertical-align: middle;\n",
       "    }\n",
       "\n",
       "    .dataframe tbody tr th {\n",
       "        vertical-align: top;\n",
       "    }\n",
       "\n",
       "    .dataframe thead th {\n",
       "        text-align: right;\n",
       "    }\n",
       "</style>\n",
       "<table border=\"1\" class=\"dataframe\">\n",
       "  <thead>\n",
       "    <tr style=\"text-align: right;\">\n",
       "      <th></th>\n",
       "      <th>match_id</th>\n",
       "      <th>season</th>\n",
       "      <th>start_date</th>\n",
       "      <th>venue</th>\n",
       "      <th>innings</th>\n",
       "      <th>ball</th>\n",
       "      <th>batting_team</th>\n",
       "      <th>bowling_team</th>\n",
       "      <th>striker</th>\n",
       "      <th>non_striker</th>\n",
       "      <th>...</th>\n",
       "      <th>extras</th>\n",
       "      <th>wides</th>\n",
       "      <th>noballs</th>\n",
       "      <th>byes</th>\n",
       "      <th>legbyes</th>\n",
       "      <th>penalty</th>\n",
       "      <th>wicket_type</th>\n",
       "      <th>player_dismissed</th>\n",
       "      <th>other_wicket_type</th>\n",
       "      <th>other_player_dismissed</th>\n",
       "    </tr>\n",
       "  </thead>\n",
       "  <tbody>\n",
       "    <tr>\n",
       "      <th>0</th>\n",
       "      <td>211048</td>\n",
       "      <td>2004/05</td>\n",
       "      <td>2005-02-17</td>\n",
       "      <td>Eden Park</td>\n",
       "      <td>1</td>\n",
       "      <td>0.1</td>\n",
       "      <td>Australia</td>\n",
       "      <td>New Zealand</td>\n",
       "      <td>AC Gilchrist</td>\n",
       "      <td>MJ Clarke</td>\n",
       "      <td>...</td>\n",
       "      <td>1</td>\n",
       "      <td>1.0</td>\n",
       "      <td>NaN</td>\n",
       "      <td>NaN</td>\n",
       "      <td>NaN</td>\n",
       "      <td>NaN</td>\n",
       "      <td>NaN</td>\n",
       "      <td>NaN</td>\n",
       "      <td>NaN</td>\n",
       "      <td>NaN</td>\n",
       "    </tr>\n",
       "    <tr>\n",
       "      <th>1</th>\n",
       "      <td>211048</td>\n",
       "      <td>2004/05</td>\n",
       "      <td>2005-02-17</td>\n",
       "      <td>Eden Park</td>\n",
       "      <td>1</td>\n",
       "      <td>0.2</td>\n",
       "      <td>Australia</td>\n",
       "      <td>New Zealand</td>\n",
       "      <td>AC Gilchrist</td>\n",
       "      <td>MJ Clarke</td>\n",
       "      <td>...</td>\n",
       "      <td>1</td>\n",
       "      <td>NaN</td>\n",
       "      <td>NaN</td>\n",
       "      <td>NaN</td>\n",
       "      <td>1.0</td>\n",
       "      <td>NaN</td>\n",
       "      <td>NaN</td>\n",
       "      <td>NaN</td>\n",
       "      <td>NaN</td>\n",
       "      <td>NaN</td>\n",
       "    </tr>\n",
       "    <tr>\n",
       "      <th>2</th>\n",
       "      <td>211048</td>\n",
       "      <td>2004/05</td>\n",
       "      <td>2005-02-17</td>\n",
       "      <td>Eden Park</td>\n",
       "      <td>1</td>\n",
       "      <td>0.3</td>\n",
       "      <td>Australia</td>\n",
       "      <td>New Zealand</td>\n",
       "      <td>MJ Clarke</td>\n",
       "      <td>AC Gilchrist</td>\n",
       "      <td>...</td>\n",
       "      <td>0</td>\n",
       "      <td>NaN</td>\n",
       "      <td>NaN</td>\n",
       "      <td>NaN</td>\n",
       "      <td>NaN</td>\n",
       "      <td>NaN</td>\n",
       "      <td>NaN</td>\n",
       "      <td>NaN</td>\n",
       "      <td>NaN</td>\n",
       "      <td>NaN</td>\n",
       "    </tr>\n",
       "    <tr>\n",
       "      <th>3</th>\n",
       "      <td>211048</td>\n",
       "      <td>2004/05</td>\n",
       "      <td>2005-02-17</td>\n",
       "      <td>Eden Park</td>\n",
       "      <td>1</td>\n",
       "      <td>0.4</td>\n",
       "      <td>Australia</td>\n",
       "      <td>New Zealand</td>\n",
       "      <td>MJ Clarke</td>\n",
       "      <td>AC Gilchrist</td>\n",
       "      <td>...</td>\n",
       "      <td>0</td>\n",
       "      <td>NaN</td>\n",
       "      <td>NaN</td>\n",
       "      <td>NaN</td>\n",
       "      <td>NaN</td>\n",
       "      <td>NaN</td>\n",
       "      <td>NaN</td>\n",
       "      <td>NaN</td>\n",
       "      <td>NaN</td>\n",
       "      <td>NaN</td>\n",
       "    </tr>\n",
       "    <tr>\n",
       "      <th>4</th>\n",
       "      <td>211048</td>\n",
       "      <td>2004/05</td>\n",
       "      <td>2005-02-17</td>\n",
       "      <td>Eden Park</td>\n",
       "      <td>1</td>\n",
       "      <td>0.5</td>\n",
       "      <td>Australia</td>\n",
       "      <td>New Zealand</td>\n",
       "      <td>AC Gilchrist</td>\n",
       "      <td>MJ Clarke</td>\n",
       "      <td>...</td>\n",
       "      <td>0</td>\n",
       "      <td>NaN</td>\n",
       "      <td>NaN</td>\n",
       "      <td>NaN</td>\n",
       "      <td>NaN</td>\n",
       "      <td>NaN</td>\n",
       "      <td>NaN</td>\n",
       "      <td>NaN</td>\n",
       "      <td>NaN</td>\n",
       "      <td>NaN</td>\n",
       "    </tr>\n",
       "  </tbody>\n",
       "</table>\n",
       "<p>5 rows × 22 columns</p>\n",
       "</div>"
      ],
      "text/plain": [
       "   match_id   season  start_date      venue  innings  ball batting_team  \\\n",
       "0    211048  2004/05  2005-02-17  Eden Park        1   0.1    Australia   \n",
       "1    211048  2004/05  2005-02-17  Eden Park        1   0.2    Australia   \n",
       "2    211048  2004/05  2005-02-17  Eden Park        1   0.3    Australia   \n",
       "3    211048  2004/05  2005-02-17  Eden Park        1   0.4    Australia   \n",
       "4    211048  2004/05  2005-02-17  Eden Park        1   0.5    Australia   \n",
       "\n",
       "  bowling_team       striker   non_striker  ... extras  wides  noballs  byes  \\\n",
       "0  New Zealand  AC Gilchrist     MJ Clarke  ...      1    1.0      NaN   NaN   \n",
       "1  New Zealand  AC Gilchrist     MJ Clarke  ...      1    NaN      NaN   NaN   \n",
       "2  New Zealand     MJ Clarke  AC Gilchrist  ...      0    NaN      NaN   NaN   \n",
       "3  New Zealand     MJ Clarke  AC Gilchrist  ...      0    NaN      NaN   NaN   \n",
       "4  New Zealand  AC Gilchrist     MJ Clarke  ...      0    NaN      NaN   NaN   \n",
       "\n",
       "   legbyes  penalty  wicket_type  player_dismissed other_wicket_type  \\\n",
       "0      NaN      NaN          NaN               NaN               NaN   \n",
       "1      1.0      NaN          NaN               NaN               NaN   \n",
       "2      NaN      NaN          NaN               NaN               NaN   \n",
       "3      NaN      NaN          NaN               NaN               NaN   \n",
       "4      NaN      NaN          NaN               NaN               NaN   \n",
       "\n",
       "  other_player_dismissed  \n",
       "0                    NaN  \n",
       "1                    NaN  \n",
       "2                    NaN  \n",
       "3                    NaN  \n",
       "4                    NaN  \n",
       "\n",
       "[5 rows x 22 columns]"
      ]
     },
     "execution_count": 5,
     "metadata": {},
     "output_type": "execute_result"
    }
   ],
   "source": [
    "df.head()"
   ]
  },
  {
   "cell_type": "code",
   "execution_count": 7,
   "id": "0327d628",
   "metadata": {},
   "outputs": [],
   "source": [
    "top_teams = ['Australia', 'Sri Lanka', 'Ireland', 'Zimbabwe', 'India', 'Bangladesh', 'New Zealand', 'South Africa', 'England', 'West Indies', 'Afghanistan', 'Pakistan', 'ICC World XI']"
   ]
  },
  {
   "cell_type": "code",
   "execution_count": 8,
   "id": "095f0207",
   "metadata": {},
   "outputs": [],
   "source": [
    "df = df[df['batting_team'].isin(top_teams)]"
   ]
  },
  {
   "cell_type": "code",
   "execution_count": 9,
   "id": "7cff9a25",
   "metadata": {},
   "outputs": [],
   "source": [
    "df = df[df['bowling_team'].isin(top_teams)]"
   ]
  },
  {
   "cell_type": "code",
   "execution_count": 10,
   "id": "a6c9b6d5",
   "metadata": {},
   "outputs": [],
   "source": [
    "df['ball'] = df['ball'].astype(str)"
   ]
  },
  {
   "cell_type": "code",
   "execution_count": 11,
   "id": "cff3fde5",
   "metadata": {},
   "outputs": [],
   "source": [
    "df['over'] = df['ball'].str[:-1]\n",
    "df['ball'] = df['ball'].str[-1:]"
   ]
  },
  {
   "cell_type": "code",
   "execution_count": 12,
   "id": "09d896de",
   "metadata": {},
   "outputs": [],
   "source": [
    "df['total_runs'] = df['runs_off_bat'] + df['extras']"
   ]
  },
  {
   "cell_type": "code",
   "execution_count": 13,
   "id": "cf09a3be",
   "metadata": {},
   "outputs": [],
   "source": [
    "df = df[['match_id', 'innings', 'batting_team', 'bowling_team', 'ball', 'over', 'total_runs', 'player_dismissed']]"
   ]
  },
  {
   "cell_type": "code",
   "execution_count": 14,
   "id": "c987e661",
   "metadata": {},
   "outputs": [],
   "source": [
    "df = df.fillna(0)"
   ]
  },
  {
   "cell_type": "code",
   "execution_count": 15,
   "id": "f5b7481d",
   "metadata": {},
   "outputs": [],
   "source": [
    "df['total'] = df.groupby(['match_id', 'innings'])['total_runs'].transform('sum') / 2\n",
    "\n",
    "df['total_runs_now'] = df.groupby(['match_id', 'innings'])['total_runs'].cumsum()\n",
    "\n",
    "df['run_rate'] = df['total_runs'] / df['ball'].astype(int)\n",
    "\n",
    "df['wickets'] = df['player_dismissed'].apply(lambda x: 1 if x != 0 else 0)\n"
   ]
  },
  {
   "cell_type": "markdown",
   "id": "deb6c836",
   "metadata": {},
   "source": [
    "# New Feature"
   ]
  },
  {
   "cell_type": "code",
   "execution_count": 16,
   "id": "d2c05e27",
   "metadata": {},
   "outputs": [],
   "source": [
    "last_30_balls = df.tail(30)"
   ]
  },
  {
   "cell_type": "code",
   "execution_count": 21,
   "id": "234ce9c1",
   "metadata": {},
   "outputs": [],
   "source": [
    "run_rate_last_30 = last_30_balls['total_runs'].sum() / last_30_balls['ball'].nunique()\n",
    "\n",
    "bowling_average_last_30 = len('total_runs')/ len('wickets')\n",
    "\n",
    "bowling_strike_rate_last_30 = len(last_30_balls) / last_30_balls['wickets'].sum()\n",
    "\n",
    "batting_strike_rate_last_30 = (len('total runs')/ len('ball'))*100\n",
    "\n",
    "batting_average_last_30 = last_30_balls['total_runs'].sum() / last_30_balls['wickets'].sum()"
   ]
  },
  {
   "cell_type": "code",
   "execution_count": 22,
   "id": "8c1a54de",
   "metadata": {},
   "outputs": [
    {
     "name": "stdout",
     "output_type": "stream",
     "text": [
      "Run Rate (Last 30 balls): 4.285714285714286\n",
      "Bowling Average (Last 30 balls): 1.4285714285714286\n",
      "Bowling Strike Rate (Last 30 balls): 10.0\n",
      "Batting Strike Rate (Last 30 balls): 250.0\n",
      "Batting Average (Last 30 balls): 10.0\n"
     ]
    }
   ],
   "source": [
    "print(\"Run Rate (Last 30 balls):\", run_rate_last_30)\n",
    "print(\"Bowling Average (Last 30 balls):\", bowling_average_last_30)\n",
    "print(\"Bowling Strike Rate (Last 30 balls):\", bowling_strike_rate_last_30)\n",
    "print(\"Batting Strike Rate (Last 30 balls):\", batting_strike_rate_last_30)\n",
    "print(\"Batting Average (Last 30 balls):\", batting_average_last_30)"
   ]
  },
  {
   "cell_type": "markdown",
   "id": "6f86dbb3",
   "metadata": {},
   "source": [
    "# In this new feature we found last 30 balls\n",
    "Runrate\n",
    "Batting Average\n",
    "Batting Strike Rate\n",
    "Bowling Average\n",
    "Bowling Strike Rate"
   ]
  },
  {
   "cell_type": "code",
   "execution_count": null,
   "id": "d1417b70",
   "metadata": {},
   "outputs": [],
   "source": []
  }
 ],
 "metadata": {
  "kernelspec": {
   "display_name": "Python 3 (ipykernel)",
   "language": "python",
   "name": "python3"
  },
  "language_info": {
   "codemirror_mode": {
    "name": "ipython",
    "version": 3
   },
   "file_extension": ".py",
   "mimetype": "text/x-python",
   "name": "python",
   "nbconvert_exporter": "python",
   "pygments_lexer": "ipython3",
   "version": "3.11.4"
  }
 },
 "nbformat": 4,
 "nbformat_minor": 5
}
